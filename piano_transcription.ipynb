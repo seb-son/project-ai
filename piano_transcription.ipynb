{
 "cells": [
  {
   "cell_type": "markdown",
   "id": "36c76482-c7ce-49d2-b465-574114beca0c",
   "metadata": {},
   "source": [
    "# Piano to Midi Transcription\n",
    "## Process outline:\n",
    "    1. Load data\n",
    "    2. Preprocess data (remove left channel (piano in aebersold is only on right channel) - optional)\n",
    "    3. Extract piano source with DEMUCS source separator\n",
    "    4. Transcribe piano with Piano Transcription Inference (PTI)-model to MIDI\n",
    "    (5. Listen to MIDI-files in ./evaluation.ipynb)\n"
   ]
  },
  {
   "cell_type": "markdown",
   "id": "cd4a0bcf-f9ca-4944-ba78-ff6dd069c7ed",
   "metadata": {},
   "source": [
    "### Install and load Packages"
   ]
  },
  {
   "cell_type": "code",
   "execution_count": 1,
   "id": "6a4a5678-c8ff-4f82-b23e-d1903931ab51",
   "metadata": {
    "scrolled": true
   },
   "outputs": [],
   "source": [
    "#!conda install mamba --yes\n",
    "#!mamba install ffmpeg==4.1.3 --yes\n",
    "# needed for torchaudio to be able to handle mp3 \n",
    "\n",
    "### Troubleshooting / make necessary installations (should not be required if used provided requirements.txt to create environment)\n",
    "#!pip install piano_transcription_inference\n",
    "#!pip install pyfluidsynth\n",
    "#!conda install mamba --yes # mamba makes installations in conda faster\n",
    "#!mamba install numpy<1.24.0 --yes # pretty midi needs an older numpy version, use conda or pip if you dont have mamba\n",
    "#!conda install librosa==0.9.2 -c conda-forge --yes \n",
    "# needed version of librosa, restart kernel if error does not go away\n",
    "\n",
    "### Restart kernel after installing packages! ###"
   ]
  },
  {
   "cell_type": "code",
   "execution_count": 1,
   "id": "c087ada0-2236-4119-b98a-23ccf8099f39",
   "metadata": {},
   "outputs": [
    {
     "name": "stderr",
     "output_type": "stream",
     "text": [
      "DEBUG:matplotlib data path: c:\\Users\\Sebi\\anaconda3\\envs\\nlp\\envs\\prac\\Lib\\site-packages\\matplotlib\\mpl-data\n",
      "DEBUG:CONFIGDIR=C:\\Users\\Sebi\\.matplotlib\n",
      "DEBUG:interactive is False\n",
      "DEBUG:platform is win32\n",
      "DEBUG:CACHEDIR=C:\\Users\\Sebi\\.matplotlib\n",
      "DEBUG:Using fontManager instance from C:\\Users\\Sebi\\.matplotlib\\fontlist-v330.json\n"
     ]
    }
   ],
   "source": [
    "from piano_transcription_utils import *\n",
    "from IPython.display import Audio\n",
    "import soundfile as sf\n",
    "import numpy as np\n",
    "import scipy\n",
    "import librosa\n",
    "from glob import glob\n",
    "import os\n",
    "import logging\n",
    "import shutil\n",
    "\n",
    "#demucs imports\n",
    "import torch\n",
    "import torchaudio\n",
    "from torchaudio.transforms import Fade\n",
    "from torchaudio.utils import download_asset\n",
    "\n",
    "#PTI imports\n",
    "#PTI will install files locally when first run\n",
    "from piano_transcription_inference import PianoTranscription, sample_rate, load_audio\n"
   ]
  },
  {
   "cell_type": "markdown",
   "id": "ef6d9532-59cf-470e-84f5-2280632aa7da",
   "metadata": {},
   "source": [
    "### Setup "
   ]
  },
  {
   "cell_type": "code",
   "execution_count": 2,
   "id": "9aa3891a-3a97-485d-bbb7-c074af9ccffb",
   "metadata": {},
   "outputs": [],
   "source": [
    "# configure logger\n",
    "logging.basicConfig(format='%(levelname)s:%(message)s', level=logging.INFO)\n",
    "\n",
    "#specify global variables\n",
    "PATH_TO_FILES = os.path.join(\"audio\") #relative filepath\n",
    "OUT_PATH = os.path.join(\"audio\",\"out\")  #relative filepath\n",
    "RECURSIVE = True # set to <True> to include subfolders\n",
    "PAN = \"1\"  # str:\"0\" for left channel, str:\"1\" for right channel (piano in aebersold), leave <None> for no panning (e.g already separated Filosax data)\n",
    "FILETYPE = [\"wav\",\"mp3\"] #specify filetype(s) e.g. [\"wav\",\"mp3\"] , have to be supported by torchaudio\n",
    "DEVICE = \"cuda\" # make it str:\"cuda\" if available\n",
    "TRIM = False # set to <True> if you want to trim audio (shorter waiting times for testing)\n",
    "START = 0 # set starting point in seconds for trimming, default is 0\n",
    "STOP = 0 # set end point for trimming, set to int:0 if no end trimming.\n",
    "KEEP_DEMUCS = False # set to <False> if you don't want demucs-separated sources saved locally\n",
    "FORMATTER = \":03d\" # set to str:\"02d\" for max 100, str:\"03d\" for max 1000 files if you want file formatting, else leave <None>"
   ]
  },
  {
   "cell_type": "code",
   "execution_count": 3,
   "id": "70361515-4fd1-4248-bd1e-ecc26baabc3a",
   "metadata": {
    "scrolled": true
   },
   "outputs": [
    {
     "name": "stderr",
     "output_type": "stream",
     "text": [
      "INFO:Initialized Demucs successfully\n"
     ]
    }
   ],
   "source": [
    "# initialize demucs\n",
    "initialize_demucs()"
   ]
  },
  {
   "cell_type": "markdown",
   "id": "80a486e4-39f9-4c27-a562-267505cc9200",
   "metadata": {},
   "source": [
    "### Load files"
   ]
  },
  {
   "cell_type": "code",
   "execution_count": 4,
   "id": "dfaa6f23-9048-4fd5-a260-333a87969dcd",
   "metadata": {},
   "outputs": [
    {
     "name": "stderr",
     "output_type": "stream",
     "text": [
      "INFO:Created output folders.\n",
      "INFO:Found 13 audiofiles.\n"
     ]
    },
    {
     "data": {
      "text/plain": [
       "['audio\\\\Vol. 16 Turnaround & Cycles\\\\1-01  Old Turnaround No.1.mp3',\n",
       " 'audio\\\\Vol. 16 Turnaround & Cycles\\\\1-02 Turnarounds n.2.mp3',\n",
       " 'audio\\\\Vol. 16 Turnaround & Cycles\\\\1-03 Turnarounds n.3.mp3',\n",
       " 'audio\\\\Vol. 16 Turnaround & Cycles\\\\1-04 Turnarounds n.4.mp3',\n",
       " 'audio\\\\Vol. 16 Turnaround & Cycles\\\\1-05 II-V7-I.mp3',\n",
       " 'audio\\\\Vol. 16 Turnaround & Cycles\\\\1-06 Hale Bop.mp3',\n",
       " 'audio\\\\Vol. 16 Turnaround & Cycles\\\\1-07 Cycles N.1(2 bars ea).mp3',\n",
       " 'audio\\\\Vol. 16 Turnaround & Cycles\\\\1-08 Cycles N.2(1 bar ea.).mp3',\n",
       " 'audio\\\\Vol. 16 Turnaround & Cycles\\\\1-09 Cycles N.3(2 beats ea).mp3',\n",
       " 'audio\\\\Vol. 16 Turnaround & Cycles\\\\1-10 Cycles N.4- fast tempo.mp3',\n",
       " 'audio\\\\Vol. 16 Turnaround & Cycles\\\\1-11 Cycles N.5-fast tempo.mp3',\n",
       " 'audio\\\\Vol. 16 Turnaround & Cycles\\\\1-12 V7+9-1(1 bar ea.).mp3',\n",
       " 'audio\\\\out\\\\demucs\\\\1-01  Old Turnaround No.1001.wav']"
      ]
     },
     "execution_count": 4,
     "metadata": {},
     "output_type": "execute_result"
    }
   ],
   "source": [
    "# get input audio files\n",
    "f_list = get_files(PATH_TO_FILES,OUT_PATH,FILETYPE,RECURSIVE)\n",
    "'''\n",
    "### Uncomment this if you want to filter the files by a given substring\n",
    "substring = \"Piano\"\n",
    "valid = []\n",
    "for i in range(len(f_list)):\n",
    "    if f_list[i].find(substring) != -1:\n",
    "        valid.append(f_list[i])\n",
    "    else:\n",
    "        continue\n",
    "f_list = valid\n",
    "'''\n",
    "f_list # show found files\n"
   ]
  },
  {
   "cell_type": "markdown",
   "id": "76446b5d-5947-40f0-984a-ccef82a11384",
   "metadata": {},
   "source": [
    "### Preprocess and Transcribe audio"
   ]
  },
  {
   "cell_type": "code",
   "execution_count": 5,
   "id": "ea9d0c89-d821-43dd-8547-20a08dbebae9",
   "metadata": {},
   "outputs": [
    {
     "name": "stderr",
     "output_type": "stream",
     "text": [
      "INFO:###################################################################################################\n",
      "INFO:Processing file 1/13: 1-01  Old Turnaround No.1 ...\n",
      "INFO:The local file (C:\\Users\\Sebi\\.cache\\torch\\hub\\torchaudio\\models\\hdemucs_high_trained.pt) exists. Skipping the download.\n",
      "INFO:Separating track from local data ...\n",
      "INFO:...finished.\n",
      "INFO:Saved file to: audio\\out\\demucs\\1-01  Old Turnaround No.1001.wav .\n",
      "INFO:audio\\Vol. 16 Turnaround & Cycles\\demucs\\1-01  Old Turnaround No.1.wav\n",
      "c:\\Users\\Sebi\\anaconda3\\envs\\nlp\\envs\\prac\\Lib\\site-packages\\piano_transcription_inference\\utilities.py:556: FutureWarning: Pass orig_sr=44100, target_sr=16000 as keyword args. From version 0.10 passing these as positional arguments will result in an error\n",
      "  y = librosa.core.audio.resample(y, sr_native, sr, res_type=res_type)\n"
     ]
    },
    {
     "name": "stdout",
     "output_type": "stream",
     "text": [
      "Checkpoint path: D:\\Sebastian\\Uni\\AI\\BAC\\project-ai\\piano_transcription_inference_data\\CRNN_note_F1=0.9677_pedal_F1=0.9186.pth\n",
      "Using cuda for inference.\n",
      "GPU number: 1\n",
      "Segment 0 / 11\n",
      "Segment 1 / 11\n",
      "Segment 2 / 11\n",
      "Segment 3 / 11\n",
      "Segment 4 / 11\n",
      "Segment 5 / 11\n",
      "Segment 6 / 11\n",
      "Segment 7 / 11\n",
      "Segment 8 / 11\n",
      "Segment 9 / 11\n",
      "Segment 10 / 11\n",
      "Segment 11 / 11\n"
     ]
    },
    {
     "name": "stderr",
     "output_type": "stream",
     "text": [
      "INFO:Transcribed 1-01  Old Turnaround No.1001.mid and saved to disk.\n",
      "INFO:###################################################################################################\n",
      "INFO:Processing file 2/13: 1-02 Turnarounds n.2 ...\n"
     ]
    },
    {
     "name": "stdout",
     "output_type": "stream",
     "text": [
      "Write out to audio\\out\\1-01  Old Turnaround No.1001.mid\n"
     ]
    },
    {
     "name": "stderr",
     "output_type": "stream",
     "text": [
      "INFO:The local file (C:\\Users\\Sebi\\.cache\\torch\\hub\\torchaudio\\models\\hdemucs_high_trained.pt) exists. Skipping the download.\n",
      "INFO:Separating track from local data ...\n",
      "INFO:...finished.\n",
      "INFO:Saved file to: audio\\out\\demucs\\1-02 Turnarounds n.2002.wav .\n",
      "INFO:audio\\Vol. 16 Turnaround & Cycles\\demucs\\1-02 Turnarounds n.2.wav\n",
      "c:\\Users\\Sebi\\anaconda3\\envs\\nlp\\envs\\prac\\Lib\\site-packages\\piano_transcription_inference\\utilities.py:556: FutureWarning: Pass orig_sr=44100, target_sr=16000 as keyword args. From version 0.10 passing these as positional arguments will result in an error\n",
      "  y = librosa.core.audio.resample(y, sr_native, sr, res_type=res_type)\n"
     ]
    },
    {
     "name": "stdout",
     "output_type": "stream",
     "text": [
      "Checkpoint path: D:\\Sebastian\\Uni\\AI\\BAC\\project-ai\\piano_transcription_inference_data\\CRNN_note_F1=0.9677_pedal_F1=0.9186.pth\n",
      "Using cuda for inference.\n",
      "GPU number: 1\n",
      "Segment 0 / 11\n",
      "Segment 1 / 11\n",
      "Segment 2 / 11\n",
      "Segment 3 / 11\n",
      "Segment 4 / 11\n",
      "Segment 5 / 11\n",
      "Segment 6 / 11\n",
      "Segment 7 / 11\n",
      "Segment 8 / 11\n",
      "Segment 9 / 11\n",
      "Segment 10 / 11\n",
      "Segment 11 / 11\n"
     ]
    },
    {
     "name": "stderr",
     "output_type": "stream",
     "text": [
      "INFO:Transcribed 1-02 Turnarounds n.2002.mid and saved to disk.\n",
      "INFO:###################################################################################################\n",
      "INFO:Processing file 3/13: 1-03 Turnarounds n.3 ...\n"
     ]
    },
    {
     "name": "stdout",
     "output_type": "stream",
     "text": [
      "Write out to audio\\out\\1-02 Turnarounds n.2002.mid\n"
     ]
    },
    {
     "name": "stderr",
     "output_type": "stream",
     "text": [
      "INFO:The local file (C:\\Users\\Sebi\\.cache\\torch\\hub\\torchaudio\\models\\hdemucs_high_trained.pt) exists. Skipping the download.\n",
      "INFO:Separating track from local data ...\n",
      "INFO:...finished.\n",
      "INFO:Saved file to: audio\\out\\demucs\\1-03 Turnarounds n.3003.wav .\n",
      "INFO:audio\\Vol. 16 Turnaround & Cycles\\demucs\\1-03 Turnarounds n.3.wav\n"
     ]
    },
    {
     "name": "stdout",
     "output_type": "stream",
     "text": [
      "Checkpoint path: D:\\Sebastian\\Uni\\AI\\BAC\\project-ai\\piano_transcription_inference_data\\CRNN_note_F1=0.9677_pedal_F1=0.9186.pth\n",
      "Using cuda for inference.\n",
      "GPU number: 1\n",
      "Segment 0 / 11\n",
      "Segment 1 / 11\n",
      "Segment 2 / 11\n",
      "Segment 3 / 11\n",
      "Segment 4 / 11\n",
      "Segment 5 / 11\n",
      "Segment 6 / 11\n",
      "Segment 7 / 11\n",
      "Segment 8 / 11\n",
      "Segment 9 / 11\n",
      "Segment 10 / 11\n",
      "Segment 11 / 11\n"
     ]
    },
    {
     "name": "stderr",
     "output_type": "stream",
     "text": [
      "INFO:Transcribed 1-03 Turnarounds n.3003.mid and saved to disk.\n",
      "INFO:###################################################################################################\n",
      "INFO:Processing file 4/13: 1-04 Turnarounds n.4 ...\n"
     ]
    },
    {
     "name": "stdout",
     "output_type": "stream",
     "text": [
      "Write out to audio\\out\\1-03 Turnarounds n.3003.mid\n"
     ]
    },
    {
     "name": "stderr",
     "output_type": "stream",
     "text": [
      "INFO:The local file (C:\\Users\\Sebi\\.cache\\torch\\hub\\torchaudio\\models\\hdemucs_high_trained.pt) exists. Skipping the download.\n",
      "INFO:Separating track from local data ...\n",
      "INFO:...finished.\n",
      "INFO:Saved file to: audio\\out\\demucs\\1-04 Turnarounds n.4004.wav .\n",
      "INFO:audio\\Vol. 16 Turnaround & Cycles\\demucs\\1-04 Turnarounds n.4.wav\n"
     ]
    },
    {
     "name": "stdout",
     "output_type": "stream",
     "text": [
      "Checkpoint path: D:\\Sebastian\\Uni\\AI\\BAC\\project-ai\\piano_transcription_inference_data\\CRNN_note_F1=0.9677_pedal_F1=0.9186.pth\n",
      "Using cuda for inference.\n",
      "GPU number: 1\n",
      "Segment 0 / 11\n",
      "Segment 1 / 11\n",
      "Segment 2 / 11\n",
      "Segment 3 / 11\n",
      "Segment 4 / 11\n",
      "Segment 5 / 11\n",
      "Segment 6 / 11\n",
      "Segment 7 / 11\n",
      "Segment 8 / 11\n",
      "Segment 9 / 11\n",
      "Segment 10 / 11\n",
      "Segment 11 / 11\n"
     ]
    },
    {
     "name": "stderr",
     "output_type": "stream",
     "text": [
      "INFO:Transcribed 1-04 Turnarounds n.4004.mid and saved to disk.\n",
      "INFO:###################################################################################################\n",
      "INFO:Processing file 5/13: 1-05 II-V7-I ...\n"
     ]
    },
    {
     "name": "stdout",
     "output_type": "stream",
     "text": [
      "Write out to audio\\out\\1-04 Turnarounds n.4004.mid\n"
     ]
    },
    {
     "name": "stderr",
     "output_type": "stream",
     "text": [
      "INFO:The local file (C:\\Users\\Sebi\\.cache\\torch\\hub\\torchaudio\\models\\hdemucs_high_trained.pt) exists. Skipping the download.\n",
      "INFO:Separating track from local data ...\n",
      "INFO:...finished.\n",
      "INFO:Saved file to: audio\\out\\demucs\\1-05 II-V7-I005.wav .\n",
      "INFO:audio\\Vol. 16 Turnaround & Cycles\\demucs\\1-05 II-V7-I.wav\n"
     ]
    },
    {
     "name": "stdout",
     "output_type": "stream",
     "text": [
      "Checkpoint path: D:\\Sebastian\\Uni\\AI\\BAC\\project-ai\\piano_transcription_inference_data\\CRNN_note_F1=0.9677_pedal_F1=0.9186.pth\n",
      "Using cuda for inference.\n",
      "GPU number: 1\n",
      "Segment 0 / 11\n",
      "Segment 1 / 11\n",
      "Segment 2 / 11\n",
      "Segment 3 / 11\n",
      "Segment 4 / 11\n",
      "Segment 5 / 11\n",
      "Segment 6 / 11\n",
      "Segment 7 / 11\n",
      "Segment 8 / 11\n",
      "Segment 9 / 11\n",
      "Segment 10 / 11\n",
      "Segment 11 / 11\n"
     ]
    },
    {
     "name": "stderr",
     "output_type": "stream",
     "text": [
      "INFO:Transcribed 1-05 II-V7-I005.mid and saved to disk.\n",
      "INFO:###################################################################################################\n",
      "INFO:Processing file 6/13: 1-06 Hale Bop ...\n"
     ]
    },
    {
     "name": "stdout",
     "output_type": "stream",
     "text": [
      "Write out to audio\\out\\1-05 II-V7-I005.mid\n"
     ]
    },
    {
     "name": "stderr",
     "output_type": "stream",
     "text": [
      "INFO:The local file (C:\\Users\\Sebi\\.cache\\torch\\hub\\torchaudio\\models\\hdemucs_high_trained.pt) exists. Skipping the download.\n",
      "INFO:Separating track from local data ...\n",
      "INFO:...finished.\n",
      "INFO:Saved file to: audio\\out\\demucs\\1-06 Hale Bop006.wav .\n",
      "INFO:audio\\Vol. 16 Turnaround & Cycles\\demucs\\1-06 Hale Bop.wav\n"
     ]
    },
    {
     "name": "stdout",
     "output_type": "stream",
     "text": [
      "Checkpoint path: D:\\Sebastian\\Uni\\AI\\BAC\\project-ai\\piano_transcription_inference_data\\CRNN_note_F1=0.9677_pedal_F1=0.9186.pth\n",
      "Using cuda for inference.\n",
      "GPU number: 1\n",
      "Segment 0 / 11\n",
      "Segment 1 / 11\n",
      "Segment 2 / 11\n",
      "Segment 3 / 11\n",
      "Segment 4 / 11\n",
      "Segment 5 / 11\n",
      "Segment 6 / 11\n",
      "Segment 7 / 11\n",
      "Segment 8 / 11\n",
      "Segment 9 / 11\n",
      "Segment 10 / 11\n",
      "Segment 11 / 11\n"
     ]
    },
    {
     "name": "stderr",
     "output_type": "stream",
     "text": [
      "INFO:Transcribed 1-06 Hale Bop006.mid and saved to disk.\n",
      "INFO:###################################################################################################\n",
      "INFO:Processing file 7/13: 1-07 Cycles N.1(2 bars ea) ...\n"
     ]
    },
    {
     "name": "stdout",
     "output_type": "stream",
     "text": [
      "Write out to audio\\out\\1-06 Hale Bop006.mid\n"
     ]
    },
    {
     "name": "stderr",
     "output_type": "stream",
     "text": [
      "INFO:The local file (C:\\Users\\Sebi\\.cache\\torch\\hub\\torchaudio\\models\\hdemucs_high_trained.pt) exists. Skipping the download.\n",
      "INFO:Separating track from local data ...\n",
      "INFO:...finished.\n",
      "INFO:Saved file to: audio\\out\\demucs\\1-07 Cycles N.1(2 bars ea)007.wav .\n",
      "INFO:audio\\Vol. 16 Turnaround & Cycles\\demucs\\1-07 Cycles N.1(2 bars ea).wav\n"
     ]
    },
    {
     "name": "stdout",
     "output_type": "stream",
     "text": [
      "Checkpoint path: D:\\Sebastian\\Uni\\AI\\BAC\\project-ai\\piano_transcription_inference_data\\CRNN_note_F1=0.9677_pedal_F1=0.9186.pth\n",
      "Using cuda for inference.\n",
      "GPU number: 1\n",
      "Segment 0 / 11\n",
      "Segment 1 / 11\n",
      "Segment 2 / 11\n",
      "Segment 3 / 11\n",
      "Segment 4 / 11\n",
      "Segment 5 / 11\n",
      "Segment 6 / 11\n",
      "Segment 7 / 11\n",
      "Segment 8 / 11\n",
      "Segment 9 / 11\n",
      "Segment 10 / 11\n",
      "Segment 11 / 11\n"
     ]
    },
    {
     "name": "stderr",
     "output_type": "stream",
     "text": [
      "INFO:Transcribed 1-07 Cycles N.1(2 bars ea)007.mid and saved to disk.\n",
      "INFO:###################################################################################################\n",
      "INFO:Processing file 8/13: 1-08 Cycles N.2(1 bar ea.) ...\n"
     ]
    },
    {
     "name": "stdout",
     "output_type": "stream",
     "text": [
      "Write out to audio\\out\\1-07 Cycles N.1(2 bars ea)007.mid\n"
     ]
    },
    {
     "name": "stderr",
     "output_type": "stream",
     "text": [
      "INFO:The local file (C:\\Users\\Sebi\\.cache\\torch\\hub\\torchaudio\\models\\hdemucs_high_trained.pt) exists. Skipping the download.\n",
      "INFO:Separating track from local data ...\n",
      "INFO:...finished.\n",
      "INFO:Saved file to: audio\\out\\demucs\\1-08 Cycles N.2(1 bar ea.)008.wav .\n",
      "INFO:audio\\Vol. 16 Turnaround & Cycles\\demucs\\1-08 Cycles N.2(1 bar ea.).wav\n"
     ]
    },
    {
     "name": "stdout",
     "output_type": "stream",
     "text": [
      "Checkpoint path: D:\\Sebastian\\Uni\\AI\\BAC\\project-ai\\piano_transcription_inference_data\\CRNN_note_F1=0.9677_pedal_F1=0.9186.pth\n",
      "Using cuda for inference.\n",
      "GPU number: 1\n",
      "Segment 0 / 11\n",
      "Segment 1 / 11\n",
      "Segment 2 / 11\n",
      "Segment 3 / 11\n",
      "Segment 4 / 11\n",
      "Segment 5 / 11\n",
      "Segment 6 / 11\n",
      "Segment 7 / 11\n",
      "Segment 8 / 11\n",
      "Segment 9 / 11\n",
      "Segment 10 / 11\n",
      "Segment 11 / 11\n"
     ]
    },
    {
     "name": "stderr",
     "output_type": "stream",
     "text": [
      "INFO:Transcribed 1-08 Cycles N.2(1 bar ea.)008.mid and saved to disk.\n",
      "INFO:###################################################################################################\n",
      "INFO:Processing file 9/13: 1-09 Cycles N.3(2 beats ea) ...\n"
     ]
    },
    {
     "name": "stdout",
     "output_type": "stream",
     "text": [
      "Write out to audio\\out\\1-08 Cycles N.2(1 bar ea.)008.mid\n"
     ]
    },
    {
     "name": "stderr",
     "output_type": "stream",
     "text": [
      "INFO:The local file (C:\\Users\\Sebi\\.cache\\torch\\hub\\torchaudio\\models\\hdemucs_high_trained.pt) exists. Skipping the download.\n",
      "INFO:Separating track from local data ...\n",
      "INFO:...finished.\n",
      "INFO:Saved file to: audio\\out\\demucs\\1-09 Cycles N.3(2 beats ea)009.wav .\n",
      "INFO:audio\\Vol. 16 Turnaround & Cycles\\demucs\\1-09 Cycles N.3(2 beats ea).wav\n"
     ]
    },
    {
     "name": "stdout",
     "output_type": "stream",
     "text": [
      "Checkpoint path: D:\\Sebastian\\Uni\\AI\\BAC\\project-ai\\piano_transcription_inference_data\\CRNN_note_F1=0.9677_pedal_F1=0.9186.pth\n",
      "Using cuda for inference.\n",
      "GPU number: 1\n",
      "Segment 0 / 11\n",
      "Segment 1 / 11\n",
      "Segment 2 / 11\n",
      "Segment 3 / 11\n",
      "Segment 4 / 11\n",
      "Segment 5 / 11\n",
      "Segment 6 / 11\n",
      "Segment 7 / 11\n",
      "Segment 8 / 11\n",
      "Segment 9 / 11\n",
      "Segment 10 / 11\n",
      "Segment 11 / 11\n"
     ]
    },
    {
     "name": "stderr",
     "output_type": "stream",
     "text": [
      "INFO:Transcribed 1-09 Cycles N.3(2 beats ea)009.mid and saved to disk.\n",
      "INFO:###################################################################################################\n",
      "INFO:Processing file 10/13: 1-10 Cycles N.4- fast tempo ...\n"
     ]
    },
    {
     "name": "stdout",
     "output_type": "stream",
     "text": [
      "Write out to audio\\out\\1-09 Cycles N.3(2 beats ea)009.mid\n"
     ]
    },
    {
     "name": "stderr",
     "output_type": "stream",
     "text": [
      "INFO:The local file (C:\\Users\\Sebi\\.cache\\torch\\hub\\torchaudio\\models\\hdemucs_high_trained.pt) exists. Skipping the download.\n",
      "INFO:Separating track from local data ...\n",
      "INFO:...finished.\n",
      "INFO:Saved file to: audio\\out\\demucs\\1-10 Cycles N.4- fast tempo010.wav .\n",
      "INFO:audio\\Vol. 16 Turnaround & Cycles\\demucs\\1-10 Cycles N.4- fast tempo.wav\n"
     ]
    },
    {
     "name": "stdout",
     "output_type": "stream",
     "text": [
      "Checkpoint path: D:\\Sebastian\\Uni\\AI\\BAC\\project-ai\\piano_transcription_inference_data\\CRNN_note_F1=0.9677_pedal_F1=0.9186.pth\n",
      "Using cuda for inference.\n",
      "GPU number: 1\n",
      "Segment 0 / 11\n",
      "Segment 1 / 11\n",
      "Segment 2 / 11\n",
      "Segment 3 / 11\n",
      "Segment 4 / 11\n",
      "Segment 5 / 11\n",
      "Segment 6 / 11\n",
      "Segment 7 / 11\n",
      "Segment 8 / 11\n",
      "Segment 9 / 11\n",
      "Segment 10 / 11\n",
      "Segment 11 / 11\n"
     ]
    },
    {
     "name": "stderr",
     "output_type": "stream",
     "text": [
      "INFO:Transcribed 1-10 Cycles N.4- fast tempo010.mid and saved to disk.\n",
      "INFO:###################################################################################################\n",
      "INFO:Processing file 11/13: 1-11 Cycles N.5-fast tempo ...\n"
     ]
    },
    {
     "name": "stdout",
     "output_type": "stream",
     "text": [
      "Write out to audio\\out\\1-10 Cycles N.4- fast tempo010.mid\n"
     ]
    },
    {
     "name": "stderr",
     "output_type": "stream",
     "text": [
      "INFO:The local file (C:\\Users\\Sebi\\.cache\\torch\\hub\\torchaudio\\models\\hdemucs_high_trained.pt) exists. Skipping the download.\n",
      "INFO:Separating track from local data ...\n",
      "INFO:...finished.\n",
      "INFO:Saved file to: audio\\out\\demucs\\1-11 Cycles N.5-fast tempo011.wav .\n",
      "INFO:audio\\Vol. 16 Turnaround & Cycles\\demucs\\1-11 Cycles N.5-fast tempo.wav\n"
     ]
    },
    {
     "name": "stdout",
     "output_type": "stream",
     "text": [
      "Checkpoint path: D:\\Sebastian\\Uni\\AI\\BAC\\project-ai\\piano_transcription_inference_data\\CRNN_note_F1=0.9677_pedal_F1=0.9186.pth\n",
      "Using cuda for inference.\n",
      "GPU number: 1\n",
      "Segment 0 / 11\n",
      "Segment 1 / 11\n",
      "Segment 2 / 11\n",
      "Segment 3 / 11\n",
      "Segment 4 / 11\n",
      "Segment 5 / 11\n",
      "Segment 6 / 11\n",
      "Segment 7 / 11\n",
      "Segment 8 / 11\n",
      "Segment 9 / 11\n",
      "Segment 10 / 11\n",
      "Segment 11 / 11\n"
     ]
    },
    {
     "name": "stderr",
     "output_type": "stream",
     "text": [
      "INFO:Transcribed 1-11 Cycles N.5-fast tempo011.mid and saved to disk.\n",
      "INFO:###################################################################################################\n",
      "INFO:Processing file 12/13: 1-12 V7+9-1(1 bar ea.) ...\n"
     ]
    },
    {
     "name": "stdout",
     "output_type": "stream",
     "text": [
      "Write out to audio\\out\\1-11 Cycles N.5-fast tempo011.mid\n"
     ]
    },
    {
     "name": "stderr",
     "output_type": "stream",
     "text": [
      "INFO:The local file (C:\\Users\\Sebi\\.cache\\torch\\hub\\torchaudio\\models\\hdemucs_high_trained.pt) exists. Skipping the download.\n",
      "INFO:Separating track from local data ...\n",
      "INFO:...finished.\n",
      "INFO:Saved file to: audio\\out\\demucs\\1-12 V7+9-1(1 bar ea.)012.wav .\n",
      "INFO:audio\\Vol. 16 Turnaround & Cycles\\demucs\\1-12 V7+9-1(1 bar ea.).wav\n"
     ]
    },
    {
     "name": "stdout",
     "output_type": "stream",
     "text": [
      "Checkpoint path: D:\\Sebastian\\Uni\\AI\\BAC\\project-ai\\piano_transcription_inference_data\\CRNN_note_F1=0.9677_pedal_F1=0.9186.pth\n",
      "Using cuda for inference.\n",
      "GPU number: 1\n",
      "Segment 0 / 11\n",
      "Segment 1 / 11\n",
      "Segment 2 / 11\n",
      "Segment 3 / 11\n",
      "Segment 4 / 11\n",
      "Segment 5 / 11\n",
      "Segment 6 / 11\n",
      "Segment 7 / 11\n",
      "Segment 8 / 11\n",
      "Segment 9 / 11\n",
      "Segment 10 / 11\n",
      "Segment 11 / 11\n"
     ]
    },
    {
     "name": "stderr",
     "output_type": "stream",
     "text": [
      "INFO:Transcribed 1-12 V7+9-1(1 bar ea.)012.mid and saved to disk.\n",
      "INFO:###################################################################################################\n",
      "INFO:Processing file 13/13: 1-01  Old Turnaround No.1001 ...\n"
     ]
    },
    {
     "name": "stdout",
     "output_type": "stream",
     "text": [
      "Write out to audio\\out\\1-12 V7+9-1(1 bar ea.)012.mid\n"
     ]
    },
    {
     "name": "stderr",
     "output_type": "stream",
     "text": [
      "INFO:The local file (C:\\Users\\Sebi\\.cache\\torch\\hub\\torchaudio\\models\\hdemucs_high_trained.pt) exists. Skipping the download.\n",
      "INFO:Separating track from local data ...\n",
      "INFO:...finished.\n",
      "INFO:Saved file to: audio\\out\\demucs\\1-01  Old Turnaround No.1001013.wav .\n",
      "INFO:audio\\out\\demucs\\demucs\\1-01  Old Turnaround No.1001.wav\n"
     ]
    },
    {
     "name": "stdout",
     "output_type": "stream",
     "text": [
      "Checkpoint path: D:\\Sebastian\\Uni\\AI\\BAC\\project-ai\\piano_transcription_inference_data\\CRNN_note_F1=0.9677_pedal_F1=0.9186.pth\n",
      "Using cuda for inference.\n",
      "GPU number: 1\n",
      "Segment 0 / 11\n",
      "Segment 1 / 11\n",
      "Segment 2 / 11\n",
      "Segment 3 / 11\n",
      "Segment 4 / 11\n",
      "Segment 5 / 11\n",
      "Segment 6 / 11\n",
      "Segment 7 / 11\n",
      "Segment 8 / 11\n",
      "Segment 9 / 11\n",
      "Segment 10 / 11\n",
      "Segment 11 / 11\n"
     ]
    },
    {
     "name": "stderr",
     "output_type": "stream",
     "text": [
      "INFO:Transcribed 1-01  Old Turnaround No.1001013.mid and saved to disk.\n",
      "INFO:###################################################################################################\n",
      "INFO:audio\\out\\demucs and all its content will be removed, are you sure? y/n \n"
     ]
    },
    {
     "name": "stdout",
     "output_type": "stream",
     "text": [
      "Write out to audio\\out\\1-01  Old Turnaround No.1001013.mid\n"
     ]
    },
    {
     "name": "stderr",
     "output_type": "stream",
     "text": [
      "INFO:Aborted removal.\n",
      "INFO:Finished.\n"
     ]
    }
   ],
   "source": [
    "# start transcription\n",
    "logging.getLogger().setLevel(logging.INFO)\n",
    "for i,f in enumerate(f_list):\n",
    "    # configure out-file formatter\n",
    "    fname = os.path.basename(f)[:-4]\n",
    "    if FORMATTER:\n",
    "        fname_formatted = (\"{\"+FORMATTER+\"}\").format(i+1)\n",
    "    else:\n",
    "        fname_formatted = fname\n",
    "    n = len(f_list)\n",
    "    logging.info('#'*99)\n",
    "    logging.info(f\"Processing file {i+1}/{n}: {fname} ...\")\n",
    "    # pan audio\n",
    "    wave,sr = load_and_pan(f,pan=PAN,trim=TRIM,start=START,stop=STOP)\n",
    "    # separate piano source\n",
    "    source_p, sr = separate_audio(file=wave,sr=sr,filename=f'{fname_formatted}.wav',source='piano',device = DEVICE, save_to_disk = True,out_path=OUT_PATH)    \n",
    "    # make transcription\n",
    "    logging.info(os.path.join(os.path.dirname(f),'demucs',f\"{fname}.wav\"))    \n",
    "    make_transcription(os.path.join(OUT_PATH,'demucs',f'{fname_formatted}.wav'),os.path.join(OUT_PATH,f'{fname_formatted}.mid'),DEVICE)\n",
    "\n",
    "# delete demucs files if specified\n",
    "logging.info('#'*99)\n",
    "if not KEEP_DEMUCS:\n",
    "    logging.info(f\"{os.path.join(OUT_PATH,'demucs')} and all its content will be removed, are you sure? y/n \")\n",
    "    if input() == \"y\":\n",
    "        shutil.rmtree(os.path.join(OUT_PATH,'demucs'))\n",
    "    else:\n",
    "        logging.info(\"Aborted removal.\")\n",
    "    \n",
    "logging.info(\"Finished.\")\n",
    "    \n",
    "    \n",
    "    "
   ]
  },
  {
   "cell_type": "code",
   "execution_count": 6,
   "id": "9239e71f-33e4-4f5b-825d-82c02501da59",
   "metadata": {},
   "outputs": [],
   "source": [
    "# put <y> or <n> to make sure nothing is deleted involuntarily!"
   ]
  }
 ],
 "metadata": {
  "kernelspec": {
   "display_name": "Python 3 (ipykernel)",
   "language": "python",
   "name": "python3"
  },
  "language_info": {
   "codemirror_mode": {
    "name": "ipython",
    "version": 3
   },
   "file_extension": ".py",
   "mimetype": "text/x-python",
   "name": "python",
   "nbconvert_exporter": "python",
   "pygments_lexer": "ipython3",
   "version": "3.11.3"
  }
 },
 "nbformat": 4,
 "nbformat_minor": 5
}
